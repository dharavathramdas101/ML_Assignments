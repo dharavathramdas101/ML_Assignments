{
 "cells": [
  {
   "cell_type": "markdown",
   "id": "1d24eb13",
   "metadata": {},
   "source": [
    "#   ML_Assignment - 05"
   ]
  },
  {
   "cell_type": "markdown",
   "id": "560ee9c0",
   "metadata": {},
   "source": [
    "### Q1. What are the key tasks that machine learning entails? What does data pre-processing imply ?\n",
    "\n",
    "### Ans:\n",
    "    this are key tasks for ml\n",
    "        Understanding the Problem Statement\n",
    "        Data Collection\n",
    "        Exploratory data analysis\n",
    "        Data Cleaning\n",
    "        Data Pre-Processing\n",
    "        Model Training\n",
    "        Choose best model\n",
    "    Data preprocessing is required tasks for cleaning the data and making it suitable for a machine learning model which also increases the accuracy and efficiency of a machine learning model."
   ]
  },
  {
   "cell_type": "markdown",
   "id": "3bfa5a0c",
   "metadata": {},
   "source": [
    "### Q2. Describe quantitative and qualitative data in depth. Make a distinction between the two ?\n",
    "\n",
    "### Ans:\n",
    "    The Data Type Is Broadly Classified Into:\n",
    "\n",
    "    1.Quantitative\n",
    "    2.Qualitative\n",
    "    1.Quantitative Data Type: This Type Of Data Type Consists Of Numerical Values. Anything Which Is Measured By Numbers. E.G., Profit, Quantity Sold, Height, Weight, Temperature, Etc. This Is Again Of Two Types\n",
    "\n",
    "    Discrete Data Type: – The Numeric Data Which Have Discrete Values Or Whole Numbers. This Type Of Variable Value If Expressed In Decimal Format Will Have No Proper Meaning. Their Values Can Be Counted. E.G.: – No. Of Cars You Have, No. Of Marbles In Containers, Students In A Class, Etc.\n",
    "    Continuous Data Type: – The Numerical Measures Which Can Take The Value Within A Certain Range. This Type Of Variable Value If Expressed In Decimal Format Has True Meaning. Their Values Can Not Be Counted But Measured. The Value Can Be Infinite E.G.: Height, Weight, Time, Area, Distance, Measurement Of Rainfall, Etc.\n",
    "    2.Qualitative Data Type: These Are The Data Types That Cannot Be Expressed In Numbers. This Describes Categories Or Groups And Is Hence Known As The Categorical Data Type. This Can Be Divided Into:-\n",
    "\n",
    "    Structured Data: This Type Of Data Is Either Number Or Words. This Can Take Numerical Values But Mathematical Operations Cannot Be Performed On It. This Type Of Data Is Expressed In Tabular Format. E.G.) Sunny=1, Cloudy=2, Windy=3 Or Binary Form Data Like 0 Or1, Good Or Bad, Etc.\n",
    "    Unstructured Data: This Type Of Data Does Not Have The Proper Format And Therefore Known As Unstructured Data.This Comprises Textual Data, Sounds, Images, Videos, Etc."
   ]
  },
  {
   "cell_type": "markdown",
   "id": "c1ab26e0",
   "metadata": {},
   "source": [
    "### Q3. Create a basic data collection that includes some sample records. Have at least one attribute from each of the machine learning data types ?\n",
    "\n",
    "### Ans:\n",
    "    Data can come in many forms, but machine learning models rely on four primary data types. These include numerical data, categorical data, time series data, and text data.\n",
    "    "
   ]
  },
  {
   "cell_type": "markdown",
   "id": "46071619",
   "metadata": {},
   "source": [
    "### 4. What are the various causes of machine learning data issues? What are the ramifications ?\n",
    "\n",
    "### Ans:\n",
    "    Here are five common machine learning problems and how you can overcome them.\n",
    "    1) Understanding Which Processes Need Automation. ...\n",
    "    2) Lack of Quality Data. ...\n",
    "    3) Inadequate Infrastructure. ...\n",
    "    4) Implementation. ...\n",
    "    5) Lack of Skilled Resources"
   ]
  },
  {
   "cell_type": "markdown",
   "id": "1e21cd11",
   "metadata": {},
   "source": [
    "### 5. Demonstrate various approaches to categorical data exploration with appropriate examples ?\n",
    "\n",
    "### Ans:\n",
    "    Data exploration is the first step of data analysis used to explore and visualize data to uncover insights from the start or identify areas or patterns to dig into more. Using interactive dashboards and point-and-click data exploration, users can better understand the bigger picture and get to insights faster."
   ]
  },
  {
   "cell_type": "markdown",
   "id": "f3f3f894",
   "metadata": {},
   "source": [
    "### 6. How would the learning activity be affected if certain variables have missing values? Having said that, what can be done about it ?\n",
    "\n",
    "### Ans:\n",
    "    7 ways to handle missing values in the dataset:\n",
    "\n",
    "    1.Deleting Rows with missing values\n",
    "    2.Impute missing values for continuous variable\n",
    "    3.Impute missing values for categorical variable\n",
    "    4.Other Imputation Methods\n",
    "    5.Using Algorithms that support missing values\n",
    "    6.Prediction of missing values\n",
    "    7.Imputation using Deep Learning Library — Datawig"
   ]
  },
  {
   "cell_type": "markdown",
   "id": "1779c613",
   "metadata": {},
   "source": [
    "### 7. Describe the various methods for dealing with missing data values in depth ?\n",
    "\n",
    "### Ans:\n",
    "    7 ways to handle missing values in the dataset:\n",
    "\n",
    "    1.Deleting Rows with missing values\n",
    "    2.Impute missing values for continuous variable\n",
    "    3.Impute missing values for categorical variable\n",
    "    4.Other Imputation Methods\n",
    "    5.Using Algorithms that support missing values\n",
    "    6.Prediction of missing values\n",
    "    7.Imputation using Deep Learning Library — Datawig"
   ]
  },
  {
   "cell_type": "markdown",
   "id": "105de0e4",
   "metadata": {},
   "source": [
    "### 8. What are the various data pre-processing techniques? Explain dimensionality reduction and function selection in a few words ?"
   ]
  },
  {
   "cell_type": "markdown",
   "id": "afe0de09",
   "metadata": {},
   "source": [
    "### Ans:\n",
    "    1. Data Cleaning: \n",
    "The data can have many irrelevant and missing parts. To handle this part, data cleaning is done. It involves handling of missing data, noisy data etc. \n",
    " \n",
    "\n",
    "(a). Missing Data: \n",
    "This situation arises when some data is missing in the data. It can be handled in various ways. \n",
    "Some of them are: \n",
    "Ignore the tuples: \n",
    "This approach is suitable only when the dataset we have is quite large and multiple values are missing within a tuple. \n",
    " \n",
    "Fill the Missing values: \n",
    "There are various ways to do this task. You can choose to fill the missing values manually, by attribute mean or the most probable value. \n",
    " \n",
    "(b). Noisy Data: \n",
    "Noisy data is a meaningless data that can’t be interpreted by machines.It can be generated due to faulty data collection, data entry errors etc. It can be handled in following ways : \n",
    "Binning Method: \n",
    "This method works on sorted data in order to smooth it. The whole data is divided into segments of equal size and then various methods are performed to complete the task. Each segmented is handled separately. One can replace all data in a segment by its mean or boundary values can be used to complete the task. \n",
    " \n",
    "Regression: \n",
    "Here data can be made smooth by fitting it to a regression function.The regression used may be linear (having one independent variable) or multiple (having multiple independent variables). \n",
    " \n",
    "Clustering: \n",
    "This approach groups the similar data in a cluster. The outliers may be undetected or it will fall outside the clusters. \n",
    "2. Data Transformation: \n",
    "This step is taken in order to transform the data in appropriate forms suitable for mining process. This involves following ways: \n",
    "\n",
    "Normalization: \n",
    "It is done in order to scale the data values in a specified range (-1.0 to 1.0 or 0.0 to 1.0) \n",
    " \n",
    "Attribute Selection: \n",
    "In this strategy, new attributes are constructed from the given set of attributes to help the mining process. \n",
    " \n",
    "Discretization: \n",
    "This is done to replace the raw values of numeric attribute by interval levels or conceptual levels. \n",
    " \n",
    "Concept Hierarchy Generation: \n",
    "Here attributes are converted from lower level to higher level in hierarchy. For Example-The attribute “city” can be converted to “country”. \n",
    " \n",
    "\n",
    "3. Data Reduction: \n",
    "Since data mining is a technique that is used to handle huge amount of data. While working with huge volume of data, analysis became harder in such cases. In order to get rid of this, we uses data reduction technique. It aims to increase the storage efficiency and reduce data storage and analysis costs. \n",
    "\n",
    "The various steps to data reduction are: \n",
    "\n",
    "Data Cube Aggregation: \n",
    "Aggregation operation is applied to data for the construction of the data cube. \n",
    " \n",
    "Attribute Subset Selection: \n",
    "The highly relevant attributes should be used, rest all can be discarded. For performing attribute selection, one can use level of significance and p- value of the attribute.the attribute having p-value greater than significance level can be discarded. \n",
    " \n",
    "Numerosity Reduction: \n",
    "This enable to store the model of data instead of whole data, for example: Regression Models. \n",
    " \n",
    "Dimensionality Reduction: \n",
    "This reduce the size of data by encoding mechanisms.It can be lossy or lossless. If after reconstruction from compressed data, original data can be retrieved, such reduction are called lossless reduction else it is called lossy reduction. The two effective methods of dimensionality reduction are:Wavelet transforms and PCA (Principal Component Analysis). \n",
    " "
   ]
  },
  {
   "cell_type": "markdown",
   "id": "cebdcb3a",
   "metadata": {},
   "source": [
    "### 9.Make brief notes on of the following ?\n",
    "    1.What is the IQR? What criteria are used to assess it?\n",
    "    2.Describe the various components of a box plot in detail? When will the lower whisker surpass the upper whisker in length? How can box plots be used to identify outliers?"
   ]
  },
  {
   "cell_type": "markdown",
   "id": "831e9944",
   "metadata": {},
   "source": [
    "### Ans:\n",
    "    1.IQR is the range between the first and the third quartiles namely Q1 and Q3: IQR = Q3 – Q1. The data points which fall below Q1 – 1.5 IQR or above Q3 + 1.5 IQR are outliers. Example: Assume the data 6, 2, 1, 5, 4, 3, 50.\n",
    "    2.       "
   ]
  },
  {
   "cell_type": "code",
   "execution_count": 2,
   "id": "e251f1c1",
   "metadata": {},
   "outputs": [
    {
     "data": {
      "image/jpeg": "[encoded data removed]",
      "text/plain": [
       "<IPython.core.display.Image object>"
      ]
     },
     "execution_count": 2,
     "metadata": {},
     "output_type": "execute_result"
    }
   ],
   "source": [
    "from IPython import display\n",
    "display.Image('https://web.pdx.edu/~stipakb/download/PA551/boxplot_files/boxplot4.jpg')"
   ]
  },
  {
   "cell_type": "markdown",
   "id": "4f31cf20",
   "metadata": {},
   "source": [
    "### 10. Make brief notes on any two of the following ?\n",
    "    1.Data collected at regular intervals\n",
    "    2.The gap between the quartiles\n",
    "    3.Use a cross-tab"
   ]
  },
  {
   "cell_type": "markdown",
   "id": "536ca4f9",
   "metadata": {},
   "source": [
    "### Ans:\n",
    "    1.Interval data is one of the two types of discrete data.\n",
    "      An example of interval data is the data collected on a thermometer—its gradation or markings are equidistant.\n",
    "     Unlike ordinal data, interval data always take numerical values where the distance between two points on the scal standardised and equal\n",
    "     2.The interquartile range or IQR is the range of the middle half of a set of data. It is the difference between the upper quartile and the lower quartile.\n",
    "     3.Researchers use cross-tabulation to examine the relationship within the data that is not readily evident. It is quite useful in market research studies and surveys. A cross-tab report shows the connection between two or more questions asked in the study."
   ]
  },
  {
   "cell_type": "markdown",
   "id": "fbc15155",
   "metadata": {},
   "source": [
    "### 11. Make a comparison between ?\n",
    "    1.Data with nominal and ordinal values\n",
    "    2.Histogram and box plot\n",
    "    3.The average and median"
   ]
  },
  {
   "cell_type": "markdown",
   "id": "e0437484",
   "metadata": {},
   "source": [
    "### Ans:\n",
    "    1.Examples of nominal data include country, gender, race, hair color etc. of a group of people, while that of ordinal data includes having a position in class as “First” or “Second”. Note that the nominal data examples are nouns, with no order to them while ordinal data examples come with a level of order.\n",
    "    2.Histograms are a special kind of bar graph that shows a bar for a range of data values instead of a single value. A box plot is a data display that draws a box over a number line to show the interquartile range of the data.\n",
    "    3.Mean is the average value of set of given data and median is the middle value when the data set is arranged in an order either ascending or descending."
   ]
  },
  {
   "cell_type": "code",
   "execution_count": null,
   "id": "7512eba3",
   "metadata": {},
   "outputs": [],
   "source": []
  }
 ],
 "metadata": {
  "kernelspec": {
   "display_name": "Python 3 (ipykernel)",
   "language": "python",
   "name": "python3"
  },
  "language_info": {
   "codemirror_mode": {
    "name": "ipython",
    "version": 3
   },
   "file_extension": ".py",
   "mimetype": "text/x-python",
   "name": "python",
   "nbconvert_exporter": "python",
   "pygments_lexer": "ipython3",
   "version": "3.10.2"
  }
 },
 "nbformat": 4,
 "nbformat_minor": 5
}
