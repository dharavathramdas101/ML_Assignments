{
 "cells": [
  {
   "cell_type": "markdown",
   "id": "bcebbdbd",
   "metadata": {},
   "source": [
    " ## ML_Assignment_01"
   ]
  },
  {
   "cell_type": "markdown",
   "id": "4149ec93",
   "metadata": {},
   "source": [
    "### Q1. What does one mean by the term &quot;machine learning&quot;?\n",
    "\n",
    "### Ans:\n",
    "    Machine learning (ML) is a type of artificial intelligence (AI) that allows software applications to become more accurate at predicting outcomes without being explicitly programmed to do so. Machine learning algorithms use historical data as input to predict new output values.\n",
    "\n",
    "    Recommendation engines are a common use case for machine learning. Other popular uses include fraud detection, spam filtering, malware threat detection, business process automation (BPA) and Predictive maintenance."
   ]
  },
  {
   "cell_type": "markdown",
   "id": "723fc195",
   "metadata": {},
   "source": [
    "### Q2.Can you think of 4 distinct types of issues where it shines?\n",
    "\n",
    "### Ans:\n",
    "    Machine learning algorithms have had good results on problems such has spam detection in email, cancer diagonosis, fraudulent credit card tranctions, and automatically driving vehicles"
   ]
  },
  {
   "cell_type": "markdown",
   "id": "47c6fcd3",
   "metadata": {},
   "source": [
    "### Q3.What is a labeled training set, and how does it work?\n",
    "\n",
    "### Ans:\n",
    "    The training set is used to train the algorithm, and then you use the trained model on the test set to predict the response variable values that are already known. The final step is to compare the predicted responses against the actual (observed) responses to see how close they are."
   ]
  },
  {
   "cell_type": "markdown",
   "id": "0c3d3bef",
   "metadata": {},
   "source": [
    "### Q4.What are the two most important tasks that are supervised?\n",
    "\n",
    "### Ans:\n",
    "    The two most common supervised tasks are regression and classification."
   ]
  },
  {
   "cell_type": "markdown",
   "id": "91465614",
   "metadata": {},
   "source": [
    "### Q5.Can you think of four examples of unsupervised tasks?\n",
    "\n",
    "### Ans:\n",
    "    Common unsupervised tasks include clustering, visualization, dimensionality reduction, and association rule learning."
   ]
  },
  {
   "cell_type": "markdown",
   "id": "1a05e430",
   "metadata": {},
   "source": [
    "### Q6.State the machine learning model that would be best to make a robot walk through various unfamiliar terrains?\n",
    "\n",
    "### Ans:\n",
    "    The best Machine Learning algorithm to allow a robot to walk in unknown terrain is Reinforced Learning, where the robot can learn from response of the terrain to optimize itself."
   ]
  },
  {
   "cell_type": "markdown",
   "id": "694b6443",
   "metadata": {},
   "source": [
    "### Q7.Which algorithm will you use to divide your customers into different groups?\n",
    "\n",
    "### Ans:\n",
    "     We will use the k-means clustering algorithm to derive the optimum number of clusters and understand the underlying customer segments based on the data provided."
   ]
  },
  {
   "cell_type": "markdown",
   "id": "d1aa4f6f",
   "metadata": {},
   "source": [
    "### Q8.Will you consider the problem of spam detection to be a supervised or unsupervised learning problem?\n",
    "\n",
    "\n",
    "### Ans:\n",
    "    Spam detection is a supervised machine learning problem. This means you must provide your machine learning model with a set of examples of spam and ham messages and let it find the relevant patterns that separate the two different categories."
   ]
  },
  {
   "cell_type": "markdown",
   "id": "1bc52105",
   "metadata": {},
   "source": [
    "### Q9.What is the concept of an online learning system?\n",
    "\n",
    "### Ans:\n",
    "    Online learning system is a learning system in which the machine learns continously, as data is given in small streams continuously."
   ]
  },
  {
   "cell_type": "markdown",
   "id": "4a0c8ed4",
   "metadata": {},
   "source": [
    "### Q10.What is out-of-core learning, and how does it differ from core learning?\n",
    "\n",
    "### Ans:\n",
    "        Out-of-core learning system is a system that can handle data that cannot fit into your computer memory. It uses online learning system to feed data in small bits."
   ]
  },
  {
   "cell_type": "markdown",
   "id": "e9ba76c2",
   "metadata": {},
   "source": [
    "### Q11.What kind of learning algorithm makes predictions using a similarity measure ?\n",
    "\n",
    "### Ans:\n",
    "     Learning algorithm that relies on a similarity measure to make predictions is instance-based algorithm."
   ]
  },
  {
   "cell_type": "markdown",
   "id": "1957b4bd",
   "metadata": {},
   "source": [
    "### Q12.What&#39;s the difference between a model parameter and a hyperparameter in a learning algorithm?\n",
    "\n",
    "### Ans:\n",
    "    Model Parameters: These are the parameters in the model that must be determined using the training data set. These are the fitted parameters. Hyperparameters: These are adjustable parameters that must be tuned in order to obtain a model with optimal performance."
   ]
  },
  {
   "cell_type": "markdown",
   "id": "6f52e665",
   "metadata": {},
   "source": [
    "### Q13.What are the criteria that model-based learning algorithms look for? What is the most popular method they use to achieve success? What method do they use to make predictions?\n",
    "\n",
    "### Ans:\n",
    "    Model based learning algorithm search for the optimal value of parameters in a model that will give the best results for the new instances. We often use a cost function or similar to determine what the parameter value has to be in order to minimize the function."
   ]
  },
  {
   "cell_type": "markdown",
   "id": "5b7e1f1c",
   "metadata": {},
   "source": [
    "### Q14.Can you name four of the most important Machine Learning challenges?\n",
    "\n",
    "### Ans:\n",
    "    Four main challenges in Machine Learning include overfitting the data (using a model too complicated), underfitting the data (using a simple model), lacking in data and nonrepresentative data."
   ]
  },
  {
   "cell_type": "markdown",
   "id": "981a6c70",
   "metadata": {},
   "source": [
    "### Q15.What happens if the model performs well on the training data but fails to generalize the results to new situations? Can you think of three different options?\n",
    "\n",
    "### Ans:\n",
    "    If the model performs poorly to new instances, then it has overfitted on the training data. To solve this, we can do any of the following three:\n",
    "\n",
    "    Get more data\n",
    "    Implement a simpler model\n",
    "    Eliminate outliers or noise from the existing data set."
   ]
  },
  {
   "cell_type": "markdown",
   "id": "bbb7789a",
   "metadata": {},
   "source": [
    "### Q16.What exactly is a test set, and why would you need one?\n",
    "\n",
    "### Ans:\n",
    "    What Does Test Set Mean? A test set in machine learning is a secondary (or tertiary) data set that is used to test a machine learning program after it has been trained on an initial training data set."
   ]
  },
  {
   "cell_type": "markdown",
   "id": "93556b10",
   "metadata": {},
   "source": [
    "### Q17.What is a validation set&#39;s purpose?\n",
    "\n",
    "### Ans:\n",
    "    A validation set is a set of data used to train artificial intelligence (AI) with the goal of finding and optimizing the best model to solve a given problem. Validation sets are also known as dev sets."
   ]
  },
  {
   "cell_type": "markdown",
   "id": "5a323a61",
   "metadata": {},
   "source": [
    "### Q18.What precisely is the train-dev kit, when will you need it, how do you put it to use?\n",
    "\n",
    "### Ans:\n",
    "    Cross-validation is a tool to compare models without needing a separate validation set. It is preferred over validation set because we can save from breaking of part of the training set to create a validation set, as having more data is valuable regardless."
   ]
  },
  {
   "cell_type": "markdown",
   "id": "dc603649",
   "metadata": {},
   "source": [
    "### Q19.What could go wrong if you use the test set to tune hyperparameters?\n",
    "\n",
    "### Ans:\n",
    "    If you use this data to choose hyperparameters, you actually give the model a chance to \"see\" the test data and to develop a bias towards this test data. Therefore, you actually lose the possibility to find out how good your model would actually be on unseen data (because it has already seen the test data)"
   ]
  },
  {
   "cell_type": "code",
   "execution_count": null,
   "id": "f4fee640",
   "metadata": {},
   "outputs": [],
   "source": []
  }
 ],
 "metadata": {
  "kernelspec": {
   "display_name": "Python 3 (ipykernel)",
   "language": "python",
   "name": "python3"
  },
  "language_info": {
   "codemirror_mode": {
    "name": "ipython",
    "version": 3
   },
   "file_extension": ".py",
   "mimetype": "text/x-python",
   "name": "python",
   "nbconvert_exporter": "python",
   "pygments_lexer": "ipython3",
   "version": "3.9.7"
  }
 },
 "nbformat": 4,
 "nbformat_minor": 5
}
