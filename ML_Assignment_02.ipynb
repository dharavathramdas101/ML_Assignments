{
 "cells": [
  {
   "cell_type": "markdown",
   "id": "0a945864",
   "metadata": {},
   "source": [
    "## ML_Assignment_02"
   ]
  },
  {
   "cell_type": "markdown",
   "id": "c0933064",
   "metadata": {},
   "source": [
    "### Q1. What is the concept of human learning? Please give two examples.\n",
    "\n",
    "### Ans:\n",
    "    Learning to drive a motor-car, typewriting, singing or memorizing a poem or a mathematical table, and music etc."
   ]
  },
  {
   "cell_type": "markdown",
   "id": "5d4fb1fd",
   "metadata": {},
   "source": [
    "### Q2. What different forms of human learning are there? Are there any machine learning equivalents?\n",
    "\n",
    "### Ans:\n",
    "    Different Forms of ML are as follows :\n",
    "\n",
    "    Artificial Intelligence Learning Theories. Machine Learning. Reinforcement Learning. Supervised Learning. Unsupervised Learning.\n",
    "    ML equivalents like Linear regression, decision trees, random forest and support vector machines are some commonly used techniques that are actually examples of supervised learning."
   ]
  },
  {
   "cell_type": "markdown",
   "id": "908098a0",
   "metadata": {},
   "source": [
    "### Q3. What is machine learning, and how does it work? What are the key responsibilities of machine learning ?\n",
    "\n",
    "### Ans:\n",
    "    Machine Learning is an AI technique that teaches computers to learn from experience. Machine learning algorithms use computational methods to “learn” information directly from data without relying on a predetermined equation as a model."
   ]
  },
  {
   "cell_type": "markdown",
   "id": "5594a98b",
   "metadata": {},
   "source": [
    "### Q4. Define the terms \"penalty\" and \"reward\" in the context of reinforcement learning ?\n",
    "\n",
    "### Ans:\n",
    "    A reinforcement learning algorithm, which may also be referred to as an agent, learns by interacting with its environment. The agent receives rewards by performing correctly and penalties for performing incorrectly. The agent learns without intervention from a human by maximizing its reward and minimizing its penalty."
   ]
  },
  {
   "cell_type": "markdown",
   "id": "f8ceaffb",
   "metadata": {},
   "source": [
    "### Q5. Explain the term &quot;learning as a search&quot;?\n",
    "\n",
    "### Ans:\n",
    "    Learning can be viewed as a search through the space of all sentences in a concept description language for a sentence that best describes the data. Alternatively, it can be viewed as a search through all hypotheses in a hypothesis space."
   ]
  },
  {
   "cell_type": "markdown",
   "id": "e31c1ca5",
   "metadata": {},
   "source": [
    "### Q6. What are the various goals of machine learning? What is the relationship between these and\n",
    "human learning?\n",
    "\n",
    "### Ans:\n",
    "    The goal of machine learning is often — though not always — to train a model on historical, labelled data (i.e., data for which the outcome is known) in order to predict the value of some quantity on the basis of a new data item for which the target value or classification is unknown."
   ]
  },
  {
   "cell_type": "markdown",
   "id": "d1deb487",
   "metadata": {},
   "source": [
    "### Q7. Illustrate the various elements of machine learning using a real-life illustration.\n",
    "\n",
    "### Ans:\n",
    "    The Various elements of the the Machine Learning are:\n",
    "        1.image recognition\n",
    "        2.speech recognition\n",
    "        3.medical diagnosis\n",
    "        4.statistical arbitrage\n",
    "        5.predictive analysis\n",
    "        6.extraction"
   ]
  },
  {
   "cell_type": "markdown",
   "id": "e8bf7007",
   "metadata": {},
   "source": [
    "### Q8. Provide an example of the abstraction method.\n",
    "\n",
    "### Ans:\n",
    "    In Machine Learning, Abstraction is supported primarily at the level of modules. This can be justified in two ways: first, Data abstraction is mostly a question of program interfaces and therefore it arises naturally at the point where we have to consider program composition and modules."
   ]
  },
  {
   "cell_type": "markdown",
   "id": "44c4e736",
   "metadata": {},
   "source": [
    "### Q9. What is the concept of generalization? What function does it play in the machine learning process?What is classification, exactly? What are the main distinctions between classification and regression?\n",
    "\n",
    "### Ans:\n",
    "    Generalization refers to your model's ability to adapt properly to new, previously unseen data, drawn from the same distribution as the one used to create the model. Develop intuition about overfitting. Determine whether a model is good or not. Divide a data set into a training set and a test set.\n",
    "    The most significant difference between regression vs classification is that while regression helps predict a continuous quantity, classification predicts discrete class labels. There are also some overlaps between the two types of machine learning algorithms."
   ]
  },
  {
   "cell_type": "markdown",
   "id": "857c4e40",
   "metadata": {},
   "source": [
    "### Q10. What is classification, exactly? What are the main distinctions between classification and regression ?\n",
    "\n",
    "### Ans:\n",
    "    The most significant difference between regression vs classification is that while regression helps predict a continuous quantity, classification predicts discrete class labels. There are also some overlaps between the two types of machine learning algorithms."
   ]
  },
  {
   "cell_type": "markdown",
   "id": "e4ed02ec",
   "metadata": {},
   "source": [
    "### Q11. What is regression, and how does it work? Give an example of a real-world problem that was solved using regression ?\n",
    "\n",
    "### Ans:\n",
    "     Regression is a Supervised Machine Learning technique which is used to predict continuous values. The ultimate goal of a regression algorithm is to plot a best-fit line or a curve between the data.\n",
    "\n",
    "    The three main metrics that are used for evaluating the trained regression model are Variance, Bias and Error.\n",
    "\n",
    "    A simple linear regression real life example could mean you finding a relationship between the revenue and temperature, with a sample size for revenue as the dependent variable. In case of multiple variable regression, you can find the relationship between temperature, pricing and number of workers to the revenue."
   ]
  },
  {
   "cell_type": "markdown",
   "id": "16b491b0",
   "metadata": {},
   "source": [
    "### Q12. Describe the clustering mechanism in detail ?\n",
    "\n",
    "### Ans:\n",
    "    Clustering is the task of dividing the population or data points into a number of groups such that data points in the same groups are more similar to other data points in the same group than those in other groups. In simple words, the aim is to segregate groups with similar traits and assign them into clusters."
   ]
  },
  {
   "cell_type": "markdown",
   "id": "86115ffa",
   "metadata": {},
   "source": [
    "### Q13. Make brief observations on two of the following topics:\n",
    "\n",
    "    i. Machine learning algorithms are used\n",
    "    ii. Studying under supervision\n",
    "    iii. Studying without supervision\n",
    "\n",
    "    iv. Reinforcement learning is a form of learning based on positive reinforcement.\n",
    "\n",
    "### Ans:\n",
    "    i. Machine learning algorithms are used\n",
    "        An ML algorithm, which is a part of AI, uses an assortment of accurate, probabilistic, and upgraded techniques that empower computers to pick up from the past point of reference and perceive hard-to-perceive patterns from massive, noisy, or complex datasets.\n",
    "    ii. Studying under supervision\n",
    "         In machine learning, there are two important categories- Supervised and Unsupervised learning.Supervised learning, an algorithm learns from a training dataset. We know the correct answers or desired output, the algorithm makes predictions using the given dataset and is corrected by the “supervisor”.\n",
    "    iii. Studying without supervision\n",
    "        Unsupervised learning, also known as unsupervised machine learning, uses machine learning algorithms to analyze and cluster unlabeled datasets. These algorithms discover hidden patterns or data groupings without the need for human intervention.\n",
    "    iv. Reinforcement learning is a form of learning based on positive reinforcement.\n",
    "        Reinforcement learning is a machine learning training method based on rewarding desired behaviors and/or punishing undesired ones. In general, a reinforcement learning agent is able to perceive and interpret its environment, take actions and learn through trial and error."
   ]
  },
  {
   "cell_type": "code",
   "execution_count": null,
   "id": "7265871b",
   "metadata": {},
   "outputs": [],
   "source": []
  }
 ],
 "metadata": {
  "kernelspec": {
   "display_name": "Python 3 (ipykernel)",
   "language": "python",
   "name": "python3"
  },
  "language_info": {
   "codemirror_mode": {
    "name": "ipython",
    "version": 3
   },
   "file_extension": ".py",
   "mimetype": "text/x-python",
   "name": "python",
   "nbconvert_exporter": "python",
   "pygments_lexer": "ipython3",
   "version": "3.9.7"
  }
 },
 "nbformat": 4,
 "nbformat_minor": 5
}
